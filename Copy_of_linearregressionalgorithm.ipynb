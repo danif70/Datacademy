{
  "nbformat": 4,
  "nbformat_minor": 0,
  "metadata": {
    "colab": {
      "name": "Copy of linearregressionalgorithm.ipynb",
      "provenance": [],
      "authorship_tag": "ABX9TyP0kc1TmfW7tfBtf/dJLSQU",
      "include_colab_link": true
    },
    "kernelspec": {
      "name": "python3",
      "display_name": "Python 3"
    },
    "language_info": {
      "name": "python"
    }
  },
  "cells": [
    {
      "cell_type": "markdown",
      "metadata": {
        "id": "view-in-github",
        "colab_type": "text"
      },
      "source": [
        "<a href=\"https://colab.research.google.com/github/danif70/Datacademy/blob/main/Copy_of_linearregressionalgorithm.ipynb\" target=\"_parent\"><img src=\"https://colab.research.google.com/assets/colab-badge.svg\" alt=\"Open In Colab\"/></a>"
      ]
    },
    {
      "cell_type": "code",
      "metadata": {
        "id": "jMbGXmXUkwYi"
      },
      "source": [
        "import numpy as np\n",
        "import matplotlib.pyplot as plt"
      ],
      "execution_count": null,
      "outputs": []
    },
    {
      "cell_type": "code",
      "metadata": {
        "id": "lQTCMGrSmC9g"
      },
      "source": [
        "def estimate_b0_b1(x, y):\n",
        "    n = np.size(x)\n",
        "    #se obtienen los promedios de x y de y \n",
        "    m_x, m_y = np.mean(x), np.mean(y)\n",
        "       #calcular sumatoria de XY y sumatoria de XX\n",
        "    sumatoria_xy = np.sum((x-m_x)*(y-m_y))\n",
        "    sumatoria_xx = np.sum((x-m_x)**2)\n",
        "       #coeficiente de regresión b1\n",
        "    b_1 = sumatoria_xy/sumatoria_xx\n",
        "    b_0 = m_y - b_1*m_x\n",
        "    return(b_0, b_1) #retorna una tupla con los valores de b_0 y b_1"
      ],
      "execution_count": null,
      "outputs": []
    },
    {
      "cell_type": "code",
      "metadata": {
        "id": "n7LrkCq829nl"
      },
      "source": [
        " # funcion de graficado\n",
        "def plot_regression(x, y, b):\n",
        "    plt.scatter(x, y, color = \"b\", marker= \"o\", s = 30)\n",
        "    y_pred = b[0]+b[1]*x #se accede a los índices de la tupla que tiene los valores de de b_0 y b_1\n",
        "    plt.plot(x, y_pred, color= \"g\")\n",
        "\n",
        "    #etiquetado\n",
        "    plt.xlabel('x-independiente')  \n",
        "    plt.ylabel('y-dependiente')\n",
        "    plt.show()"
      ],
      "execution_count": null,
      "outputs": []
    },
    {
      "cell_type": "code",
      "metadata": {
        "colab": {
          "base_uri": "https://localhost:8080/",
          "height": 296
        },
        "id": "xjGkHdzh4zqC",
        "outputId": "23763177-3409-4fcf-fe9e-67f75c5bd4bd"
      },
      "source": [
        "#Función MAIN\n",
        "def main():\n",
        "      #DATASET\n",
        "    x = np.array([1, 2, 3, 4, 5])\n",
        "    y = np.array([2, 3, 5, 6, 5])\n",
        "\n",
        "      #Obtenemos b1 y b0\n",
        "    b = estimate_b0_b1(x, y)\n",
        "    print(f\"Los valores de b_0 = {b[0]} , b_1 = {b[1]}\")\n",
        "      #graficamos la linea de regresión\n",
        "    plot_regression(x, y, b)\n",
        "  \n",
        "if __name__== \"__main__\":\n",
        "      main()\n",
        "    \n",
        "\n"
      ],
      "execution_count": null,
      "outputs": [
        {
          "output_type": "stream",
          "text": [
            "Los valores de b_0 = 1.5 , b_1 = 0.9\n"
          ],
          "name": "stdout"
        },
        {
          "output_type": "display_data",
          "data": {
            "image/png": "[encoded data removed]",
            "text/plain": [
              "<Figure size 432x288 with 1 Axes>"
            ]
          },
          "metadata": {
            "tags": [],
            "needs_background": "light"
          }
        }
      ]
    }
  ]
}